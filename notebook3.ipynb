{
 "cells": [
  {
   "cell_type": "markdown",
   "metadata": {},
   "source": [
    "# Function call\n",
    "\n",
    "- 여기서 이해해야 할 포인트는 GPT가 함수를 실행하지는 않는다는 것입니다.\n",
    "- GPT는 함수를 실행하지 않고 함수를 실행할 때 필요한 인자를 알려주는 것입니다.\n",
    "- 실제 실행은 사용자가 직접 하고, 결과를 GPT에게 다시 알려줘야 합니다. 그러면 GPT는 결과를 활용한 응답을 다시 사용자에게 알려줍니다.\n",
    "- 근데 왜 위험하다는 거지? 내 개인정보를 gpt 에게 알려줄수도 있어서인가?\n"
   ]
  },
  {
   "cell_type": "code",
   "execution_count": 5,
   "metadata": {},
   "outputs": [],
   "source": [
    "from langchain.chat_models import ChatOpenAI\n",
    "from langchain.prompts import PromptTemplate\n",
    "\n",
    "\n",
    "def get_weather(lon, lat):\n",
    "    print(\"call an api...\")\n",
    "\n",
    "\n",
    "function = {\n",
    "    \"name\": \"get_weather\",\n",
    "    \"description\": \"functions that takes longitude and latitude to find the weather of a place\",\n",
    "    \"parameters\": {\n",
    "        \"type\": \"object\",\n",
    "        \"properties\": {\n",
    "            \"lon\": {\"type\": \"string\", \"description\": \"The longitude coordinate\"},\n",
    "            \"lat\": {\"type\": \"string\", \"description\": \"The latitude coordinate\"},\n",
    "        },\n",
    "    },\n",
    "    \"required\": [\"lon\", \"lat\"],\n",
    "}\n",
    "\n",
    "\n",
    "llm = ChatOpenAI(temperature=0.1).bind(function_call=\"auto\", functions=[function])\n",
    "\n",
    "prompt = PromptTemplate.from_template(\"Who is the weather in {city}\")\n",
    "\n",
    "chain = prompt | llm\n",
    "\n",
    "response = chain.invoke({\"city\": \"rome\"})\n",
    "\n",
    "response = response.additional_kwargs[\"function_call\"][\"arguments\"]"
   ]
  },
  {
   "cell_type": "code",
   "execution_count": 6,
   "metadata": {},
   "outputs": [
    {
     "data": {
      "text/plain": [
       "{'lon': '12.4964', 'lat': '41.9028'}"
      ]
     },
     "execution_count": 6,
     "metadata": {},
     "output_type": "execute_result"
    }
   ],
   "source": [
    "import json\n",
    "\n",
    "json.loads(response)"
   ]
  }
 ],
 "metadata": {
  "kernelspec": {
   "display_name": "env",
   "language": "python",
   "name": "python3"
  },
  "language_info": {
   "codemirror_mode": {
    "name": "ipython",
    "version": 3
   },
   "file_extension": ".py",
   "mimetype": "text/x-python",
   "name": "python",
   "nbconvert_exporter": "python",
   "pygments_lexer": "ipython3",
   "version": "3.11.10"
  }
 },
 "nbformat": 4,
 "nbformat_minor": 2
}
